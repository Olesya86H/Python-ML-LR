{
 "cells": [
  {
   "cell_type": "code",
   "execution_count": 1,
   "id": "36f813d8",
   "metadata": {},
   "outputs": [],
   "source": [
    "#импортируем биб-ки, нужные для построения модели и графиков\n",
    "import numpy as np #для работы с массивами и прочими мат.вычислениями\n",
    "import pandas as pd #для работы с данными - датафреймы\n",
    "import math\n",
    "import matplotlib.pyplot as plt #для работы с графиками\n",
    "from sklearn.linear_model import LinearRegression #для построения моделей, линейная регрессия в данном случае, её задача - построить прогноз цен на новый период (01.10.2018 - 31.03.2019)."
   ]
  },
  {
   "cell_type": "code",
   "execution_count": 2,
   "id": "19eabcfc",
   "metadata": {},
   "outputs": [],
   "source": [
    "data = pd.read_csv('data_for_regression_task1.csv', sep = ';') #считываем исходный файл в набор данных data\n",
    "data = data.dropna() #удаляем нулевые значения из считанного набора данных"
   ]
  },
  {
   "cell_type": "code",
   "execution_count": 3,
   "id": "e087c5cd",
   "metadata": {},
   "outputs": [
    {
     "data": {
      "text/html": [
       "<div>\n",
       "<style scoped>\n",
       "    .dataframe tbody tr th:only-of-type {\n",
       "        vertical-align: middle;\n",
       "    }\n",
       "\n",
       "    .dataframe tbody tr th {\n",
       "        vertical-align: top;\n",
       "    }\n",
       "\n",
       "    .dataframe thead th {\n",
       "        text-align: right;\n",
       "    }\n",
       "</style>\n",
       "<table border=\"1\" class=\"dataframe\">\n",
       "  <thead>\n",
       "    <tr style=\"text-align: right;\">\n",
       "      <th></th>\n",
       "      <th>x</th>\n",
       "      <th>y</th>\n",
       "    </tr>\n",
       "  </thead>\n",
       "  <tbody>\n",
       "    <tr>\n",
       "      <th>0</th>\n",
       "      <td>01.01.2016</td>\n",
       "      <td>165.568</td>\n",
       "    </tr>\n",
       "    <tr>\n",
       "      <th>1</th>\n",
       "      <td>04.01.2016</td>\n",
       "      <td>162.760</td>\n",
       "    </tr>\n",
       "    <tr>\n",
       "      <th>2</th>\n",
       "      <td>05.01.2016</td>\n",
       "      <td>161.200</td>\n",
       "    </tr>\n",
       "    <tr>\n",
       "      <th>3</th>\n",
       "      <td>06.01.2016</td>\n",
       "      <td>162.240</td>\n",
       "    </tr>\n",
       "    <tr>\n",
       "      <th>4</th>\n",
       "      <td>07.01.2016</td>\n",
       "      <td>162.552</td>\n",
       "    </tr>\n",
       "  </tbody>\n",
       "</table>\n",
       "</div>"
      ],
      "text/plain": [
       "            x        y\n",
       "0  01.01.2016  165.568\n",
       "1  04.01.2016  162.760\n",
       "2  05.01.2016  161.200\n",
       "3  06.01.2016  162.240\n",
       "4  07.01.2016  162.552"
      ]
     },
     "execution_count": 3,
     "metadata": {},
     "output_type": "execute_result"
    }
   ],
   "source": [
    "data.head()"
   ]
  },
  {
   "cell_type": "code",
   "execution_count": 4,
   "id": "bfcfc87e",
   "metadata": {},
   "outputs": [],
   "source": [
    "x = data['x']\n",
    "y = data['y']"
   ]
  },
  {
   "cell_type": "code",
   "execution_count": 5,
   "id": "d7cadb84",
   "metadata": {
    "scrolled": false
   },
   "outputs": [
    {
     "data": {
      "image/png": "[encoded data removed]",
      "text/plain": [
       "<Figure size 640x480 with 1 Axes>"
      ]
     },
     "metadata": {},
     "output_type": "display_data"
    }
   ],
   "source": [
    "#график начальных данных - зависимость x от y:\n",
    "plt.plot(x, y)\n",
    "plt.show()"
   ]
  },
  {
   "cell_type": "code",
   "execution_count": 6,
   "id": "9c507ec8",
   "metadata": {},
   "outputs": [],
   "source": [
    "df = pd.DataFrame(data) #загоняем в датафрейм"
   ]
  },
  {
   "cell_type": "code",
   "execution_count": 7,
   "id": "6d68230f",
   "metadata": {},
   "outputs": [
    {
     "data": {
      "text/html": [
       "<div>\n",
       "<style scoped>\n",
       "    .dataframe tbody tr th:only-of-type {\n",
       "        vertical-align: middle;\n",
       "    }\n",
       "\n",
       "    .dataframe tbody tr th {\n",
       "        vertical-align: top;\n",
       "    }\n",
       "\n",
       "    .dataframe thead th {\n",
       "        text-align: right;\n",
       "    }\n",
       "</style>\n",
       "<table border=\"1\" class=\"dataframe\">\n",
       "  <thead>\n",
       "    <tr style=\"text-align: right;\">\n",
       "      <th></th>\n",
       "      <th>x</th>\n",
       "      <th>y</th>\n",
       "    </tr>\n",
       "  </thead>\n",
       "  <tbody>\n",
       "    <tr>\n",
       "      <th>0</th>\n",
       "      <td>01.01.2016</td>\n",
       "      <td>165.568</td>\n",
       "    </tr>\n",
       "    <tr>\n",
       "      <th>1</th>\n",
       "      <td>04.01.2016</td>\n",
       "      <td>162.760</td>\n",
       "    </tr>\n",
       "    <tr>\n",
       "      <th>2</th>\n",
       "      <td>05.01.2016</td>\n",
       "      <td>161.200</td>\n",
       "    </tr>\n",
       "    <tr>\n",
       "      <th>3</th>\n",
       "      <td>06.01.2016</td>\n",
       "      <td>162.240</td>\n",
       "    </tr>\n",
       "    <tr>\n",
       "      <th>4</th>\n",
       "      <td>07.01.2016</td>\n",
       "      <td>162.552</td>\n",
       "    </tr>\n",
       "    <tr>\n",
       "      <th>...</th>\n",
       "      <td>...</td>\n",
       "      <td>...</td>\n",
       "    </tr>\n",
       "    <tr>\n",
       "      <th>709</th>\n",
       "      <td>25.09.2018</td>\n",
       "      <td>271.752</td>\n",
       "    </tr>\n",
       "    <tr>\n",
       "      <th>710</th>\n",
       "      <td>26.09.2018</td>\n",
       "      <td>265.200</td>\n",
       "    </tr>\n",
       "    <tr>\n",
       "      <th>711</th>\n",
       "      <td>27.09.2018</td>\n",
       "      <td>261.040</td>\n",
       "    </tr>\n",
       "    <tr>\n",
       "      <th>712</th>\n",
       "      <td>28.09.2018</td>\n",
       "      <td>260.520</td>\n",
       "    </tr>\n",
       "    <tr>\n",
       "      <th>713</th>\n",
       "      <td>01.10.2018</td>\n",
       "      <td>266.552</td>\n",
       "    </tr>\n",
       "  </tbody>\n",
       "</table>\n",
       "<p>714 rows × 2 columns</p>\n",
       "</div>"
      ],
      "text/plain": [
       "              x        y\n",
       "0    01.01.2016  165.568\n",
       "1    04.01.2016  162.760\n",
       "2    05.01.2016  161.200\n",
       "3    06.01.2016  162.240\n",
       "4    07.01.2016  162.552\n",
       "..          ...      ...\n",
       "709  25.09.2018  271.752\n",
       "710  26.09.2018  265.200\n",
       "711  27.09.2018  261.040\n",
       "712  28.09.2018  260.520\n",
       "713  01.10.2018  266.552\n",
       "\n",
       "[714 rows x 2 columns]"
      ]
     },
     "execution_count": 7,
     "metadata": {},
     "output_type": "execute_result"
    }
   ],
   "source": [
    "df"
   ]
  },
  {
   "cell_type": "code",
   "execution_count": 8,
   "id": "e07986b2",
   "metadata": {},
   "outputs": [],
   "source": [
    "df.y = (df.y.astype(float).fillna(0.00) + 2 + 260) * 1000 #применяем формулу из задания (дана такая)"
   ]
  },
  {
   "cell_type": "code",
   "execution_count": 9,
   "id": "6e172848",
   "metadata": {},
   "outputs": [
    {
     "data": {
      "text/html": [
       "<div>\n",
       "<style scoped>\n",
       "    .dataframe tbody tr th:only-of-type {\n",
       "        vertical-align: middle;\n",
       "    }\n",
       "\n",
       "    .dataframe tbody tr th {\n",
       "        vertical-align: top;\n",
       "    }\n",
       "\n",
       "    .dataframe thead th {\n",
       "        text-align: right;\n",
       "    }\n",
       "</style>\n",
       "<table border=\"1\" class=\"dataframe\">\n",
       "  <thead>\n",
       "    <tr style=\"text-align: right;\">\n",
       "      <th></th>\n",
       "      <th>x</th>\n",
       "      <th>y</th>\n",
       "    </tr>\n",
       "  </thead>\n",
       "  <tbody>\n",
       "    <tr>\n",
       "      <th>0</th>\n",
       "      <td>01.01.2016</td>\n",
       "      <td>427568.0</td>\n",
       "    </tr>\n",
       "    <tr>\n",
       "      <th>1</th>\n",
       "      <td>04.01.2016</td>\n",
       "      <td>424760.0</td>\n",
       "    </tr>\n",
       "    <tr>\n",
       "      <th>2</th>\n",
       "      <td>05.01.2016</td>\n",
       "      <td>423200.0</td>\n",
       "    </tr>\n",
       "    <tr>\n",
       "      <th>3</th>\n",
       "      <td>06.01.2016</td>\n",
       "      <td>424240.0</td>\n",
       "    </tr>\n",
       "    <tr>\n",
       "      <th>4</th>\n",
       "      <td>07.01.2016</td>\n",
       "      <td>424552.0</td>\n",
       "    </tr>\n",
       "    <tr>\n",
       "      <th>...</th>\n",
       "      <td>...</td>\n",
       "      <td>...</td>\n",
       "    </tr>\n",
       "    <tr>\n",
       "      <th>709</th>\n",
       "      <td>25.09.2018</td>\n",
       "      <td>533752.0</td>\n",
       "    </tr>\n",
       "    <tr>\n",
       "      <th>710</th>\n",
       "      <td>26.09.2018</td>\n",
       "      <td>527200.0</td>\n",
       "    </tr>\n",
       "    <tr>\n",
       "      <th>711</th>\n",
       "      <td>27.09.2018</td>\n",
       "      <td>523040.0</td>\n",
       "    </tr>\n",
       "    <tr>\n",
       "      <th>712</th>\n",
       "      <td>28.09.2018</td>\n",
       "      <td>522520.0</td>\n",
       "    </tr>\n",
       "    <tr>\n",
       "      <th>713</th>\n",
       "      <td>01.10.2018</td>\n",
       "      <td>528552.0</td>\n",
       "    </tr>\n",
       "  </tbody>\n",
       "</table>\n",
       "<p>714 rows × 2 columns</p>\n",
       "</div>"
      ],
      "text/plain": [
       "              x         y\n",
       "0    01.01.2016  427568.0\n",
       "1    04.01.2016  424760.0\n",
       "2    05.01.2016  423200.0\n",
       "3    06.01.2016  424240.0\n",
       "4    07.01.2016  424552.0\n",
       "..          ...       ...\n",
       "709  25.09.2018  533752.0\n",
       "710  26.09.2018  527200.0\n",
       "711  27.09.2018  523040.0\n",
       "712  28.09.2018  522520.0\n",
       "713  01.10.2018  528552.0\n",
       "\n",
       "[714 rows x 2 columns]"
      ]
     },
     "execution_count": 9,
     "metadata": {},
     "output_type": "execute_result"
    }
   ],
   "source": [
    "df"
   ]
  },
  {
   "cell_type": "code",
   "execution_count": 10,
   "id": "a837890b",
   "metadata": {},
   "outputs": [
    {
     "data": {
      "image/png": "[encoded data removed]",
      "text/plain": [
       "<Figure size 640x480 with 1 Axes>"
      ]
     },
     "metadata": {},
     "output_type": "display_data"
    }
   ],
   "source": [
    "#график данных, вычисленных по формуле из задания - зависимость y от х:\n",
    "plt.plot(df.x, df.y)\n",
    "plt.show()"
   ]
  },
  {
   "cell_type": "code",
   "execution_count": 11,
   "id": "0186d078",
   "metadata": {},
   "outputs": [
    {
     "name": "stderr",
     "output_type": "stream",
     "text": [
      "C:\\Users\\Chernyavskaya_OS\\AppData\\Local\\Temp\\ipykernel_9504\\1051653999.py:4: UserWarning: Parsing dates in DD/MM/YYYY format when dayfirst=False (the default) was specified. This may lead to inconsistently parsed dates! Specify a format to ensure consistent parsing.\n",
      "  df['x'] = pd.to_datetime(data['x'])\n"
     ]
    },
    {
     "data": {
      "text/html": [
       "<div>\n",
       "<style scoped>\n",
       "    .dataframe tbody tr th:only-of-type {\n",
       "        vertical-align: middle;\n",
       "    }\n",
       "\n",
       "    .dataframe tbody tr th {\n",
       "        vertical-align: top;\n",
       "    }\n",
       "\n",
       "    .dataframe thead th {\n",
       "        text-align: right;\n",
       "    }\n",
       "</style>\n",
       "<table border=\"1\" class=\"dataframe\">\n",
       "  <thead>\n",
       "    <tr style=\"text-align: right;\">\n",
       "      <th></th>\n",
       "      <th>x</th>\n",
       "      <th>y</th>\n",
       "    </tr>\n",
       "  </thead>\n",
       "  <tbody>\n",
       "    <tr>\n",
       "      <th>0</th>\n",
       "      <td>735964</td>\n",
       "      <td>427568.0</td>\n",
       "    </tr>\n",
       "    <tr>\n",
       "      <th>1</th>\n",
       "      <td>736055</td>\n",
       "      <td>424760.0</td>\n",
       "    </tr>\n",
       "    <tr>\n",
       "      <th>2</th>\n",
       "      <td>736085</td>\n",
       "      <td>423200.0</td>\n",
       "    </tr>\n",
       "    <tr>\n",
       "      <th>3</th>\n",
       "      <td>736116</td>\n",
       "      <td>424240.0</td>\n",
       "    </tr>\n",
       "    <tr>\n",
       "      <th>4</th>\n",
       "      <td>736146</td>\n",
       "      <td>424552.0</td>\n",
       "    </tr>\n",
       "    <tr>\n",
       "      <th>...</th>\n",
       "      <td>...</td>\n",
       "      <td>...</td>\n",
       "    </tr>\n",
       "    <tr>\n",
       "      <th>709</th>\n",
       "      <td>736962</td>\n",
       "      <td>533752.0</td>\n",
       "    </tr>\n",
       "    <tr>\n",
       "      <th>710</th>\n",
       "      <td>736963</td>\n",
       "      <td>527200.0</td>\n",
       "    </tr>\n",
       "    <tr>\n",
       "      <th>711</th>\n",
       "      <td>736964</td>\n",
       "      <td>523040.0</td>\n",
       "    </tr>\n",
       "    <tr>\n",
       "      <th>712</th>\n",
       "      <td>736965</td>\n",
       "      <td>522520.0</td>\n",
       "    </tr>\n",
       "    <tr>\n",
       "      <th>713</th>\n",
       "      <td>736704</td>\n",
       "      <td>528552.0</td>\n",
       "    </tr>\n",
       "  </tbody>\n",
       "</table>\n",
       "<p>714 rows × 2 columns</p>\n",
       "</div>"
      ],
      "text/plain": [
       "          x         y\n",
       "0    735964  427568.0\n",
       "1    736055  424760.0\n",
       "2    736085  423200.0\n",
       "3    736116  424240.0\n",
       "4    736146  424552.0\n",
       "..      ...       ...\n",
       "709  736962  533752.0\n",
       "710  736963  527200.0\n",
       "711  736964  523040.0\n",
       "712  736965  522520.0\n",
       "713  736704  528552.0\n",
       "\n",
       "[714 rows x 2 columns]"
      ]
     },
     "execution_count": 11,
     "metadata": {},
     "output_type": "execute_result"
    }
   ],
   "source": [
    "import datetime as dt\n",
    "\n",
    "#переводим дату в число (столбец \"x\"), чтобы работала модель линейной регрессии:\n",
    "df['x'] = pd.to_datetime(data['x'])\n",
    "df['x']=df['x'].map(dt.datetime.toordinal)\n",
    "df"
   ]
  },
  {
   "cell_type": "code",
   "execution_count": 12,
   "id": "bedbc8dd",
   "metadata": {},
   "outputs": [],
   "source": [
    "from sklearn.model_selection import train_test_split #для разбиения исходной выборки на обучающую и тестовую выборки в соотношении 80%/20%.\n",
    "X_train, X_test, y_train, y_test = train_test_split(df.x, df.y, test_size=0.2, shuffle=False)#80/20 80% - это тренировочные данные, 20% - тестовые"
   ]
  },
  {
   "cell_type": "code",
   "execution_count": 13,
   "id": "c0acf189",
   "metadata": {},
   "outputs": [],
   "source": [
    "#преобразуем столбец х: вместо одного массива с числами получаем массив массивов, в каждом подмассиве - по одному значению х: [735964,...,736965,736704]->[[735964],...,[736964],[736964]]\n",
    "X_train= X_train.values.reshape(-1, 1) \n",
    "X_test = X_test.values.reshape(-1, 1)"
   ]
  },
  {
   "cell_type": "code",
   "execution_count": 14,
   "id": "f02aadc3",
   "metadata": {},
   "outputs": [],
   "source": [
    "model_LR = LinearRegression().fit(X_train, y_train) #строим модель линейной регрессии и обучаем её на тренировочных данных (обучение - команда .fit, тренировочные данные - это массивы X_train и y_train, т.е. 80% от исходных данных в файле, т.е. дата(х)+цена(у))"
   ]
  },
  {
   "cell_type": "code",
   "execution_count": 15,
   "id": "9fed101a",
   "metadata": {},
   "outputs": [],
   "source": [
    "#формируем массив тестовых данных\n",
    "import datetime\n",
    "\n",
    "#получаем новый массив дат - период 01.10.2018 - 31.03.2019, только будни (пн-пт), без выходных (сб-вс)\n",
    "date_array = [] #в этом массиве будут храниться данные в формате даты (т.е. дата = дата)\n",
    "date = datetime.datetime(2018,10,1)\n",
    "while date <= datetime.datetime(2019,4,1):\n",
    "    if date.weekday() != 5 and date.weekday() != 6:\n",
    "        date_array.append(date)\n",
    "        date += datetime.timedelta(days=1)\n",
    "    else:\n",
    "        date += datetime.timedelta(days=2)\n",
    "\n",
    "df_test_z = pd.DataFrame() #заводим новую оболочку под х и расчётный у (y - это искомая цена)\n",
    "df_test_z['x'] = pd.to_datetime(date_array) #загоняем в df_test_z['x'] массив дат искомого периода в родном формате даты\n",
    "df_test_z['x'] = df_test_z['x'].map(dt.datetime.toordinal) #преобразуем эти даты в числа, чтобы работала модель линейной регрессии\n"
   ]
  },
  {
   "cell_type": "code",
   "execution_count": 16,
   "id": "1a61b5d0",
   "metadata": {},
   "outputs": [
    {
     "data": {
      "text/plain": [
       "0      736968\n",
       "1      736969\n",
       "2      736970\n",
       "3      736971\n",
       "4      736972\n",
       "        ...  \n",
       "126    737144\n",
       "127    737145\n",
       "128    737146\n",
       "129    737147\n",
       "130    737150\n",
       "Name: x, Length: 131, dtype: int64"
      ]
     },
     "execution_count": 16,
     "metadata": {},
     "output_type": "execute_result"
    }
   ],
   "source": [
    "df_test_z['x'] #тут можно просто посмотреть на даты, преобразованные в числа (это всё - период 01.10.2018 - 31.03.2019)"
   ]
  },
  {
   "cell_type": "code",
   "execution_count": 17,
   "id": "2dc085ab",
   "metadata": {},
   "outputs": [],
   "source": [
    "X_test = df_test_z['x'] #просто для соблюдения чистоты нотаций\n",
    "X_test = X_test.values.reshape(-1, 1) #преобразуем столбец х: вместо одного массива с числами получаем массив массивов, в каждом подмассиве - по одному значению х: [735968,...,737147,737150]->[[735968],...,[737147],[737150]]"
   ]
  },
  {
   "cell_type": "code",
   "execution_count": 18,
   "id": "a51611f9",
   "metadata": {},
   "outputs": [
    {
     "data": {
      "text/html": [
       "<div>\n",
       "<style scoped>\n",
       "    .dataframe tbody tr th:only-of-type {\n",
       "        vertical-align: middle;\n",
       "    }\n",
       "\n",
       "    .dataframe tbody tr th {\n",
       "        vertical-align: top;\n",
       "    }\n",
       "\n",
       "    .dataframe thead th {\n",
       "        text-align: right;\n",
       "    }\n",
       "</style>\n",
       "<table border=\"1\" class=\"dataframe\">\n",
       "  <thead>\n",
       "    <tr style=\"text-align: right;\">\n",
       "      <th></th>\n",
       "      <th>Дата</th>\n",
       "      <th>Стоимость 1 блока товаров</th>\n",
       "      <th>Цена товара</th>\n",
       "    </tr>\n",
       "  </thead>\n",
       "  <tbody>\n",
       "    <tr>\n",
       "      <th>0</th>\n",
       "      <td>2018-10-01</td>\n",
       "      <td>453170.059581</td>\n",
       "      <td>191.170060</td>\n",
       "    </tr>\n",
       "    <tr>\n",
       "      <th>1</th>\n",
       "      <td>2018-10-02</td>\n",
       "      <td>453206.487145</td>\n",
       "      <td>191.206487</td>\n",
       "    </tr>\n",
       "    <tr>\n",
       "      <th>2</th>\n",
       "      <td>2018-10-03</td>\n",
       "      <td>453242.914710</td>\n",
       "      <td>191.242915</td>\n",
       "    </tr>\n",
       "    <tr>\n",
       "      <th>3</th>\n",
       "      <td>2018-10-04</td>\n",
       "      <td>453279.342274</td>\n",
       "      <td>191.279342</td>\n",
       "    </tr>\n",
       "    <tr>\n",
       "      <th>4</th>\n",
       "      <td>2018-10-05</td>\n",
       "      <td>453315.769839</td>\n",
       "      <td>191.315770</td>\n",
       "    </tr>\n",
       "    <tr>\n",
       "      <th>...</th>\n",
       "      <td>...</td>\n",
       "      <td>...</td>\n",
       "      <td>...</td>\n",
       "    </tr>\n",
       "    <tr>\n",
       "      <th>126</th>\n",
       "      <td>2019-03-26</td>\n",
       "      <td>459581.310955</td>\n",
       "      <td>197.581311</td>\n",
       "    </tr>\n",
       "    <tr>\n",
       "      <th>127</th>\n",
       "      <td>2019-03-27</td>\n",
       "      <td>459617.738520</td>\n",
       "      <td>197.617739</td>\n",
       "    </tr>\n",
       "    <tr>\n",
       "      <th>128</th>\n",
       "      <td>2019-03-28</td>\n",
       "      <td>459654.166084</td>\n",
       "      <td>197.654166</td>\n",
       "    </tr>\n",
       "    <tr>\n",
       "      <th>129</th>\n",
       "      <td>2019-03-29</td>\n",
       "      <td>459690.593649</td>\n",
       "      <td>197.690594</td>\n",
       "    </tr>\n",
       "    <tr>\n",
       "      <th>130</th>\n",
       "      <td>2019-04-01</td>\n",
       "      <td>459799.876343</td>\n",
       "      <td>197.799876</td>\n",
       "    </tr>\n",
       "  </tbody>\n",
       "</table>\n",
       "<p>131 rows × 3 columns</p>\n",
       "</div>"
      ],
      "text/plain": [
       "          Дата  Стоимость 1 блока товаров  Цена товара\n",
       "0   2018-10-01              453170.059581   191.170060\n",
       "1   2018-10-02              453206.487145   191.206487\n",
       "2   2018-10-03              453242.914710   191.242915\n",
       "3   2018-10-04              453279.342274   191.279342\n",
       "4   2018-10-05              453315.769839   191.315770\n",
       "..         ...                        ...          ...\n",
       "126 2019-03-26              459581.310955   197.581311\n",
       "127 2019-03-27              459617.738520   197.617739\n",
       "128 2019-03-28              459654.166084   197.654166\n",
       "129 2019-03-29              459690.593649   197.690594\n",
       "130 2019-04-01              459799.876343   197.799876\n",
       "\n",
       "[131 rows x 3 columns]"
      ]
     },
     "execution_count": 18,
     "metadata": {},
     "output_type": "execute_result"
    }
   ],
   "source": [
    "prediction = model_LR.predict(X_test) #прогоняем нашу модель линейной регрессии для нового периода (01.10.2018 - 31.03.2019) - получаем прогнозные значения y\n",
    "df_test_z = pd.DataFrame() #обнуляем датафрейм для хранения результатов прогнозирования\n",
    "df_test_z[\"Дата\"] = pd.DataFrame(date_array) #подставляем даты вместо эквивалентных им чисел\n",
    "df_test_z[\"Стоимость 1 блока товаров\"] = prediction #добавляем в наш набор данных (НД) расчетное значение y - загоняем его в результирующий датафрейм\n",
    "df_test_z[\"Цена товара\"] = df_test_z[\"Стоимость 1 блока товаров\"].astype(float).fillna(0.00)/1000 - 260 - 2 #применяем формулу из задания\n",
    "\n",
    "df_test_z #просто выведем на экран, чтобы посмотреть "
   ]
  },
  {
   "cell_type": "code",
   "execution_count": 19,
   "id": "d3687626",
   "metadata": {},
   "outputs": [
    {
     "data": {
      "image/png": "[encoded data removed]",
      "text/plain": [
       "<Figure size 640x480 with 1 Axes>"
      ]
     },
     "metadata": {},
     "output_type": "display_data"
    }
   ],
   "source": [
    "#график для преиода 01.10.2018-31.03.2019 (это ось х), по оси у - цена товара\n",
    "plt.plot(df_test_z[\"Дата\"], df_test_z[\"Цена товара\"])\n",
    "plt.show()"
   ]
  },
  {
   "cell_type": "code",
   "execution_count": 20,
   "id": "5c7e56d3",
   "metadata": {},
   "outputs": [
    {
     "data": {
      "image/png": "[encoded data removed]",
      "text/plain": [
       "<Figure size 640x480 with 1 Axes>"
      ]
     },
     "metadata": {},
     "output_type": "display_data"
    }
   ],
   "source": [
    "#график для преиода 01.10.2018-31.03.2019 (это ось х), по оси у - стоимость 1 блока товаров\n",
    "plt.plot(df_test_z[\"Дата\"], df_test_z[\"Стоимость 1 блока товаров\"])\n",
    "plt.show()"
   ]
  },
  {
   "cell_type": "code",
   "execution_count": 21,
   "id": "405cfb1e",
   "metadata": {},
   "outputs": [],
   "source": [
    "#считаем сумму (полную стоимость контракта):\n",
    "s = pd.Series(df_test_z[\"Стоимость 1 блока товаров\"]).sum()"
   ]
  },
  {
   "cell_type": "code",
   "execution_count": 22,
   "id": "c662e9a7",
   "metadata": {},
   "outputs": [
    {
     "name": "stdout",
     "output_type": "stream",
     "text": [
      "Результаты прогноза модели, построенной методом линейной регрессии выгружены в файл data_prediction_model_LR_task1.csv\n",
      "Файл хранится в той же папке, откуда запускается эта IDE\n",
      "Полная стоимость договора, у.е.: 59795742.33626709\n"
     ]
    }
   ],
   "source": [
    "#пишем в файл результаты:\n",
    "#в первом столбце из датафрейма df_test_z - хранится дата из периода 01.10.2018 - 31.03.2019, во втором столбце - хранится прогнозное значение для 1 блока товаров, в третьем столбце - цена одной единицы товара (т.е. единица измерения как в исходных данных - применим формулу из задания наоборот)\n",
    "df_test_z.to_csv(\"data_prediction_model_LR_task1.csv\", index=False, encoding='utf-8-sig')\n",
    "print(\"Результаты прогноза модели, построенной методом линейной регрессии выгружены в файл data_prediction_model_LR_task1.csv\")\n",
    "print(\"Файл хранится в той же папке, откуда запускается эта IDE\")\n",
    "print(\"Полная стоимость договора, у.е.: {f}\".format (f = s))"
   ]
  }
 ],
 "metadata": {
  "kernelspec": {
   "display_name": "Python 3 (ipykernel)",
   "language": "python",
   "name": "python3"
  },
  "language_info": {
   "codemirror_mode": {
    "name": "ipython",
    "version": 3
   },
   "file_extension": ".py",
   "mimetype": "text/x-python",
   "name": "python",
   "nbconvert_exporter": "python",
   "pygments_lexer": "ipython3",
   "version": "3.11.0"
  }
 },
 "nbformat": 4,
 "nbformat_minor": 5
}
